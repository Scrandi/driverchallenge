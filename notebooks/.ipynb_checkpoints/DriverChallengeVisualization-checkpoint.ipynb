{
 "cells": [
  {
   "cell_type": "code",
   "execution_count": 4,
   "metadata": {
    "collapsed": false
   },
   "outputs": [],
   "source": [
    "def plot_driver(driver, pathToDriverData, limit=200, color='b'):\n",
    "    import DriverDataIO\n",
    "    import matplotlib.pyplot as plt\n",
    "    trips = range(1,limit+1)\n",
    "    fig, ax = plt.subplots()\n",
    "\n",
    "    for index in trips:\n",
    "        trip = DriverDataIO.get_trip(driver, index, pathToDriverData)\n",
    "        ax.plot([i[0] for i in trip],[i[1] for i in trip],'-', color='b')\n",
    "            \n",
    "    plt.show()"
   ]
  },
  {
   "cell_type": "code",
   "execution_count": null,
   "metadata": {
    "collapsed": true
   },
   "outputs": [],
   "source": [
    "def plot_speed(speed):\n",
    "    import matplotlib.pyplot as plt\n",
    "    fig, ax = plt.subplots()\n",
    "\n",
    "    ax.plot(range(len(speed)),speed,'-', color='b')\n",
    "            \n",
    "    plt.show()"
   ]
  },
  {
   "cell_type": "markdown",
   "metadata": {},
   "source": [
    "used to compare two plots e.g. original and post-processed trip"
   ]
  },
  {
   "cell_type": "code",
   "execution_count": null,
   "metadata": {
    "collapsed": true
   },
   "outputs": [],
   "source": [
    "def plot_compare(before, after):\n",
    "    import matplotlib.pyplot as plt\n",
    "    fig, ax = plt.subplots()\n",
    "\n",
    "    ax.plot(range(len(before)),before,'-', color='b')\n",
    "    ax.plot(range(len(after)),after,'-', color='r')\n",
    "            \n",
    "    plt.show()"
   ]
  }
 ],
 "metadata": {
  "kernelspec": {
   "display_name": "Python 2",
   "language": "python",
   "name": "python2"
  },
  "language_info": {
   "codemirror_mode": {
    "name": "ipython",
    "version": 2
   },
   "file_extension": ".py",
   "mimetype": "text/x-python",
   "name": "python",
   "nbconvert_exporter": "python",
   "pygments_lexer": "ipython2",
   "version": "2.7.6"
  }
 },
 "nbformat": 4,
 "nbformat_minor": 0
}
