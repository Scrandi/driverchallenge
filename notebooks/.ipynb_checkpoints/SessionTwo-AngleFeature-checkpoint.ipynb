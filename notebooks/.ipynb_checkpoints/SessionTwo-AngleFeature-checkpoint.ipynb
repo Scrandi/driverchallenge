{
 "cells": [
  {
   "cell_type": "code",
   "execution_count": 1,
   "metadata": {
    "collapsed": false
   },
   "outputs": [],
   "source": [
    "import DriverDataIO\n",
    "import DriverChallengeHelperFunctions as dcHF\n",
    "import DriverChallengeVisualization as dcVis\n",
    "import AccelerationFeature\n",
    "\n",
    "from math import *\n",
    "\n",
    "pathToDriverData = '../../driverchallenge_data/drivers'"
   ]
  },
  {
   "cell_type": "code",
   "execution_count": 2,
   "metadata": {
    "collapsed": true
   },
   "outputs": [],
   "source": [
    "trip = DriverDataIO.get_trip(1,2,pathToDriverData)"
   ]
  },
  {
   "cell_type": "code",
   "execution_count": 3,
   "metadata": {
    "collapsed": false
   },
   "outputs": [
    {
     "name": "stdout",
     "output_type": "stream",
     "text": [
      "561\n"
     ]
    }
   ],
   "source": [
    "print(len(trip))"
   ]
  },
  {
   "cell_type": "markdown",
   "metadata": {},
   "source": [
    "$$ arcos(\\frac{(P_{12}^2 + P_{23}^2 - P_{13}^2) }{ (2 \\cdot P_{12} \\cdot P_{23}))}) $$"
   ]
  },
  {
   "cell_type": "code",
   "execution_count": 23,
   "metadata": {
    "collapsed": false
   },
   "outputs": [],
   "source": [
    "def get_angle1(p, trip):\n",
    "    if(p > 0 and p < len(trip)-1):\n",
    "        p1 = trip[p-1]\n",
    "        p2 = trip[p]\n",
    "        p3 = trip[p+1]\n",
    "        p12 = dcHF.distance(p1, p2)\n",
    "        p13 = dcHF.distance(p1, p3)\n",
    "        p23 = dcHF.distance(p2, p3)\n",
    "        numerator = p12**2 + p23**2 - p13**2\n",
    "        denomenator = 2 * p12 * p23\n",
    "        if denomenator == 0:\n",
    "            return -1\n",
    "        #print numerator\n",
    "        #print denomenator\n",
    "        #print numerator/denomenator\n",
    "        return acos(round(numerator/denomenator, 5))/pi\n",
    "        #return round(numerator/denomenator, 5)\n",
    "    return -1"
   ]
  },
  {
   "cell_type": "code",
   "execution_count": 24,
   "metadata": {
    "collapsed": false
   },
   "outputs": [],
   "source": [
    "angles = []\n",
    "for index,p in list(enumerate(trip)):\n",
    "    angles.append(get_angle(index, trip))\n",
    "    "
   ]
  },
  {
   "cell_type": "code",
   "execution_count": 25,
   "metadata": {
    "collapsed": false
   },
   "outputs": [],
   "source": [
    "dcVis.plot_speed(angles)"
   ]
  },
  {
   "cell_type": "markdown",
   "metadata": {},
   "source": []
  },
  {
   "cell_type": "code",
   "execution_count": null,
   "metadata": {
    "collapsed": true
   },
   "outputs": [],
   "source": []
  }
 ],
 "metadata": {
  "kernelspec": {
   "display_name": "Python 2",
   "language": "python",
   "name": "python2"
  },
  "language_info": {
   "codemirror_mode": {
    "name": "ipython",
    "version": 2
   },
   "file_extension": ".py",
   "mimetype": "text/x-python",
   "name": "python",
   "nbconvert_exporter": "python",
   "pygments_lexer": "ipython2",
   "version": "2.7.9"
  }
 },
 "nbformat": 4,
 "nbformat_minor": 0
}
