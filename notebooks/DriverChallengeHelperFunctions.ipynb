{
 "cells": [
  {
   "cell_type": "code",
   "execution_count": 1,
   "metadata": {
    "collapsed": true
   },
   "outputs": [],
   "source": [
    "from math import sqrt\n",
    "def distance(p1, p2):\n",
    "    return sqrt((p1[0]-p2[0])**2 + (p1[1]-p2[1])**2 )\n",
    "\n",
    "def get_speed(trip):\n",
    "    speed = []\n",
    "    for i in range(len(trip)-1):\n",
    "        speed.append( distance(trip[i], trip[i+1])*3.6 )\n",
    "    return speed\n",
    "\n",
    "def smooth_speed(speed, filter=9):\n",
    "    \"\"\"\n",
    "    Smoothes signal using median filter and the given filter size.\n",
    "    \"\"\"\n",
    "    from scipy.signal import medfilt\n",
    "    return medfilt(speed, filter)\n",
    "\n",
    "def get_acceleration(speed):\n",
    "    \"\"\"\n",
    "    Computes acceleration for list of speed measurements.\n",
    "    Acceleration is negative for breaking.\n",
    "    @rtype list\n",
    "    \"\"\"\n",
    "    acc = []\n",
    "    for i in range(len(speed)-1):\n",
    "        acc.append(speed[i+1] - speed[i])\n",
    "    return acc"
   ]
  },
  {
   "cell_type": "code",
   "execution_count": null,
   "metadata": {
    "collapsed": true
   },
   "outputs": [],
   "source": []
  },
  {
   "cell_type": "code",
   "execution_count": null,
   "metadata": {
    "collapsed": true
   },
   "outputs": [],
   "source": []
  }
 ],
 "metadata": {
  "kernelspec": {
   "display_name": "Python 2",
   "language": "python",
   "name": "python2"
  },
  "language_info": {
   "codemirror_mode": {
    "name": "ipython",
    "version": 2
   },
   "file_extension": ".py",
   "mimetype": "text/x-python",
   "name": "python",
   "nbconvert_exporter": "python",
   "pygments_lexer": "ipython2",
   "version": "2.7.6"
  }
 },
 "nbformat": 4,
 "nbformat_minor": 0
}
