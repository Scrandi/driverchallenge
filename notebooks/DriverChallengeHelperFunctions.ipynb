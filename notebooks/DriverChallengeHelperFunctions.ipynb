{
 "cells": [
  {
   "cell_type": "code",
   "execution_count": 1,
   "metadata": {
    "collapsed": true
   },
   "outputs": [],
   "source": [
    "from math import *\n",
    "def distance(p1, p2):\n",
    "    return sqrt((p1[0]-p2[0])**2 + (p1[1]-p2[1])**2 )\n",
    "\n",
    "def get_speed(trip):\n",
    "    speed = []\n",
    "    for i in range(len(trip)-1):\n",
    "        speed.append( distance(trip[i], trip[i+1])*3.6 )\n",
    "    return speed\n",
    "\n",
    "def smooth_speed(speed, filter=9):\n",
    "    \"\"\"\n",
    "    Smoothes signal using median filter and the given filter size.\n",
    "    \"\"\"\n",
    "    from scipy.signal import medfilt\n",
    "    return medfilt(speed, filter)\n",
    "\n",
    "def get_acceleration(speed):\n",
    "    \"\"\"\n",
    "    Computes acceleration for list of speed measurements.\n",
    "    Acceleration is negative for breaking.\n",
    "    @rtype list\n",
    "    \"\"\"\n",
    "    acc = []\n",
    "    for i in range(len(speed)-1):\n",
    "        acc.append(speed[i+1] - speed[i])\n",
    "    return acc"
   ]
  },
  {
<<<<<<< HEAD
   "cell_type": "code",
   "execution_count": null,
   "metadata": {
    "collapsed": true
   },
   "outputs": [],
   "source": []
  },
  {
   "cell_type": "code",
   "execution_count": null,
   "metadata": {
    "collapsed": true
   },
   "outputs": [],
   "source": []
=======
   "cell_type": "markdown",
   "metadata": {},
   "source": [
    "this function get the angle at the point p, $$ arcos(\\frac{(P_{12}^2 + P_{23}^2 - P_{13}^2) }{ (2 \\cdot P_{12} \\cdot P_{23}))}) $$"
   ]
  },
  {
   "cell_type": "code",
   "execution_count": 3,
   "metadata": {
    "collapsed": false
   },
   "outputs": [],
   "source": [
    "def get_angle(p, trip):\n",
    "    if(p > 0 and p < len(trip)-1):\n",
    "        p1 = trip[p-1]\n",
    "        p2 = trip[p]\n",
    "        p3 = trip[p+1]\n",
    "        p12 = distance(p1, p2)\n",
    "        p13 = distance(p1, p3)\n",
    "        p23 = distance(p2, p3)\n",
    "        numerator = p12**2 + p23**2 - p13**2\n",
    "        denomenator = 2 * p12 * p23\n",
    "        if denomenator == 0:\n",
    "            return -1\n",
    "        #print numerator\n",
    "        #print denomenator\n",
    "        #print numerator/denomenator\n",
    "        return acos(round(numerator/denomenator, 5))/pi\n",
    "        #return round(numerator/denomenator, 5)\n",
    "    return -1"
   ]
>>>>>>> 6514200704091a33d6921edd28e37dacf92ddda3
  }
 ],
 "metadata": {
  "kernelspec": {
   "display_name": "Python 2",
   "language": "python",
   "name": "python2"
  },
  "language_info": {
   "codemirror_mode": {
    "name": "ipython",
    "version": 2
   },
   "file_extension": ".py",
   "mimetype": "text/x-python",
   "name": "python",
   "nbconvert_exporter": "python",
   "pygments_lexer": "ipython2",
   "version": "2.7.9"
  }
 },
 "nbformat": 4,
 "nbformat_minor": 0
}
