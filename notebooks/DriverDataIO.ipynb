{
 "cells": [
  {
   "cell_type": "markdown",
   "metadata": {},
   "source": [
    "this function loads a specific trip\n",
    "parameters: driver = driver id 1-3612, index = trip number 1-200, pathToDriverData = path to the drivers folder"
   ]
  },
  {
   "cell_type": "code",
   "execution_count": null,
   "metadata": {
    "collapsed": true
   },
   "outputs": [],
   "source": [
    "def get_trip(driver, index, pathToDriverData):\n",
    "        with open(pathToDriverData + '/%d/%d.csv' % (driver,index)) as f:\n",
    "            trip = []\n",
    "            for line in f:\n",
    "                try:\n",
    "                    trip.append([float(i) for i in line.split(',')])\n",
    "                except ValueError:\n",
    "                    continue\n",
    "        return trip"
   ]
  }
 ],
 "metadata": {
  "kernelspec": {
   "display_name": "Python 2",
   "language": "python",
   "name": "python2"
  },
  "language_info": {
   "codemirror_mode": {
    "name": "ipython",
    "version": 2
   },
   "file_extension": ".py",
   "mimetype": "text/x-python",
   "name": "python",
   "nbconvert_exporter": "python",
   "pygments_lexer": "ipython2",
   "version": "2.7.6"
  }
 },
 "nbformat": 4,
 "nbformat_minor": 0
}
